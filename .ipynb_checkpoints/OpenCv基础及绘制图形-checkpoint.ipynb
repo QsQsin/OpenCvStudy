{
 "cells": [
  {
   "cell_type": "markdown",
   "id": "6ee2faea-2867-475a-8881-b88729e7922d",
   "metadata": {},
   "source": [
    "## OpenCv颜色空间\n",
    "opencv读取图像的颜色空间是BGR\n",
    "### HSV颜色空间\n",
    "opencv用的最多的色彩空间是HSV(HSB)\n",
    "Hue：色相\n",
    "Saturation：饱和度：可以看成是光谱色和白色混合的结果\n",
    "value(Brightness)：明度：控制混入黑色的量\n",
    "### HSL空间\n",
    "Hue:和HSV完全一致\n",
    "Saturation:和黑白无关，相当于稀释\n",
    "Lightness:控制纯色中混入的黑白的两种颜色\n",
    "### YUV颜色空间\n",
    "YUV是一种颜色编码方法\n",
    "优点：占用带宽小\n",
    "Y表示明度\n",
    "UV表示色度，用于描述色彩和饱和度，用于指定像素的颜色"
   ]
  },
  {
   "cell_type": "code",
   "execution_count": 3,
   "id": "6c37d90c-3006-4d42-ba00-f99a4663b857",
   "metadata": {},
   "outputs": [],
   "source": [
    "import cv2\n",
    "mountain = cv2.imread('./mountain.jpg')\n",
    "cv2.imshow('show1',mountain)\n",
    "cv2.waitKey(0)\n",
    "cv2.destroyAllWindows()"
   ]
  },
  {
   "cell_type": "markdown",
   "id": "280dba02-7075-4394-81a7-99602b8c9502",
   "metadata": {},
   "source": [
    "## 颜色空间的转换"
   ]
  },
  {
   "cell_type": "code",
   "execution_count": 2,
   "id": "b7a25d2f-2ef9-4327-bb3e-97d4fb81824b",
   "metadata": {},
   "outputs": [],
   "source": [
    "import cv2\n",
    "#关键API cv2.cvtColor()\n",
    "\n",
    "def callback(value):\n",
    "    pass\n",
    "\n",
    "cv2.namedWindow('colorCvt',cv2.WINDOW_NORMAL)\n",
    "cv2.resizeWindow('clorCvt',640,480)\n",
    "#读取照片,BGR\n",
    "img=cv2.imread('./mountain.jpg')\n",
    "                    \n",
    "colorspaces=[\n",
    "    cv2.COLOR_BGR2RGBA,cv2.COLOR_BGR2BGRA,\n",
    "    cv2.COLOR_BGR2GRAY,cv2.COLOR_BGR2HSV,\n",
    "    cv2.COLOR_BGR2YUV\n",
    "]\n",
    "\n",
    "cv2.createTrackbar('trackbar','colorCvt',0,4,callback)\n",
    "\n",
    "while True:\n",
    "    index = cv2.getTrackbarPos('trackbar','colorCvt')\n",
    "    cvt_img=cv2.cvtColor(img,colorspaces[index])\n",
    "    cv2.imshow('colorCvt',cvt_img)\n",
    "    key = cv2.waitKey(10)\n",
    "    if key==ord('q'):\n",
    "        break\n",
    "\n",
    "\n",
    "cv2.destroyAllWindows()\n"
   ]
  },
  {
   "cell_type": "markdown",
   "id": "591e1264-b2e6-43e0-b9cf-b7cd3ebd3d3a",
   "metadata": {},
   "source": [
    "## mat格式\n",
    "mat是C++保存图片的一种数据结构，python中将mat格式转化为了np.ndarray[]\n",
    "浅拷贝，共享数据，改变head，对mat的深浅拷贝就是对ndarray的深浅拷贝"
   ]
  },
  {
   "cell_type": "code",
   "execution_count": 10,
   "id": "295c97f7-e29c-46ac-8e95-3c9cd7ef42be",
   "metadata": {},
   "outputs": [],
   "source": [
    "import cv2\n",
    "import numpy as np\n",
    "\n",
    "img=cv2.imread('./mountain.jpg')\n",
    "\n",
    "#浅拷贝\n",
    "img2=img.view()\n",
    "\n",
    "#深拷贝\n",
    "img3=img.copy()\n",
    "\n",
    "img[10:100,10:100]=[0,255,255]\n",
    "\n",
    "cv2.imshow('img',np.hstack((img,img2,img3)))\n",
    "\n",
    "cv2.waitKey(0)\n",
    "cv2.destroyAllWindows()"
   ]
  },
  {
   "cell_type": "code",
   "execution_count": 8,
   "id": "833257a5-ccde-4197-9066-508dfa3812ab",
   "metadata": {},
   "outputs": [],
   "source": [
    "#颜色通道的分离和合并\n",
    "#图像的分割与融合\n",
    "import cv2\n",
    "import numpy as np\n",
    "\n",
    "img=np.zeros((200,200,3),np.uint8)\n",
    "#分割通道\n",
    "b,g,r =cv2.split(img) \n",
    "#修改一些颜色\n",
    "b[10:100, 10:100]=255\n",
    "g[10:100, 10:100]=255\n",
    "\n",
    "#合并通道\n",
    "img2=cv2.merge((b,g,r))\n",
    "cv2.imshow('img',np.hstack((b,g)))\n",
    "cv2.imshow('img',np.hstack((img,img2)))\n",
    "\n",
    "cv2.waitKey(0)\n",
    "cv2.destroyAllWindows()"
   ]
  },
  {
   "cell_type": "markdown",
   "id": "a7ea17fe-49ea-44c0-81e6-2fc745efff06",
   "metadata": {},
   "source": [
    "## 绘制图形"
   ]
  },
  {
   "cell_type": "code",
   "execution_count": 46,
   "id": "59001357-2055-4e29-9623-93350eb81426",
   "metadata": {},
   "outputs": [],
   "source": [
    "#line()\n",
    "import cv2 \n",
    "import numpy as np\n",
    "\n",
    "#创建纯黑的背景图\n",
    "img=np.zeros((480,640,3),np.uint8)\n",
    "\n",
    "cv2.line(img,(10,20),(300,400),(0,0,255),5,4)\n",
    "cv2.line(img,(80,100),(380,480),(0,0,255),5,16)\n",
    "\n",
    "#绘制矩形椭圆等,坐标用元组\n",
    "cv2.rectangle(img,(80,100),(380,380),(0,255,0),5,16)\n",
    "\n",
    "cv2.circle(img,(100,120),50,(255,0,0),5,16)\n",
    "\n",
    "cv2.ellipse(img,(200,240),(100,200),120,0,180,(128,128,128),5,16)\n",
    "\n",
    "pts=np.array([(250,100),(150,180),(320,168)],np.int32)\n",
    "cv2.polylines(img,[pts],True,(0,128,128),5)\n",
    "\n",
    "#填充多边形\n",
    "cv2.fillPoly(img,[pts],(0,128,128))\n",
    "\n",
    "# 绘制文本\n",
    "cv2.putText(img,'nihao OpenCv',(100,230),cv2.FONT_HERSHEY_COMPLEX,2,[128,128,0])\n",
    "cv2.imshow('img',img)\n",
    "cv2.waitKey(0)\n",
    "cv2.destroyAllWindows()\n",
    "\n"
   ]
  },
  {
   "cell_type": "code",
   "execution_count": null,
   "id": "3f0743a9-eb64-495b-a20b-748c19086d35",
   "metadata": {},
   "outputs": [],
   "source": [
    "## 人脸检测demo"
   ]
  },
  {
   "cell_type": "code",
   "execution_count": 36,
   "id": "0e5aa181-5d81-423a-8897-2daa5923c4c4",
   "metadata": {},
   "outputs": [],
   "source": [
    "import cv2\n",
    "\n",
    "# 加载人脸检测器\n",
    "face_cascade = cv2.CascadeClassifier(cv2.data.haarcascades + 'haarcascade_frontalface_default.xml')\n",
    "\n",
    "# 打开摄像头（如果要从图像文件中进行人脸检测，请用cv2.imread()加载图像）\n",
    "cap = cv2.VideoCapture(0)\n",
    "\n",
    "while True:\n",
    "    # 读取视频流的帧\n",
    "    ret, frame = cap.read()\n",
    "    \n",
    "    # 将帧转换为灰度图像（人脸检测通常在灰度图像上执行）\n",
    "    gray = cv2.cvtColor(frame, cv2.COLOR_BGR2GRAY)\n",
    "    \n",
    "    # 在灰度图像上执行人脸检测\n",
    "    faces = face_cascade.detectMultiScale(gray, scaleFactor=1.3, minNeighbors=5, minSize=(30, 30))\n",
    "    \n",
    "    # 在检测到的人脸周围绘制矩形框\n",
    "    for (x, y, w, h) in faces:\n",
    "        cv2.rectangle(frame, (x, y), (x+w, y+h), (0, 255, 0), 2)\n",
    "    \n",
    "    # 显示帧\n",
    "    cv2.imshow('Face Detection', frame)\n",
    "    \n",
    "    # 退出循环（按'q'键）\n",
    "    if cv2.waitKey(1) & 0xFF == ord('q'):\n",
    "        break\n",
    "\n",
    "# 释放摄像头并关闭窗口\n",
    "cap.release()\n",
    "cv2.destroyAllWindows()\n"
   ]
  },
  {
   "cell_type": "code",
   "execution_count": null,
   "id": "5974f092-146a-4b9f-8577-69a9be6ea1c9",
   "metadata": {},
   "outputs": [],
   "source": []
  }
 ],
 "metadata": {
  "kernelspec": {
   "display_name": "Python 3 (ipykernel)",
   "language": "python",
   "name": "python3"
  },
  "language_info": {
   "codemirror_mode": {
    "name": "ipython",
    "version": 3
   },
   "file_extension": ".py",
   "mimetype": "text/x-python",
   "name": "python",
   "nbconvert_exporter": "python",
   "pygments_lexer": "ipython3",
   "version": "3.8.17"
  }
 },
 "nbformat": 4,
 "nbformat_minor": 5
}
