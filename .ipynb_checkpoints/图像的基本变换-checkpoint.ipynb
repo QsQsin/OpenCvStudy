{
 "cells": [
  {
   "cell_type": "markdown",
   "id": "ed1329ff-8890-4d7d-8929-99c4603f18ac",
   "metadata": {},
   "source": [
    "## 图像的放大与缩小"
   ]
  },
  {
   "cell_type": "code",
   "execution_count": 8,
   "id": "7ad32891-6f1c-4a4a-a402-edc64dc9c3b4",
   "metadata": {},
   "outputs": [],
   "source": [
    "# resize\n",
    "import cv2\n",
    "import numpy as np\n",
    "\n",
    "mountain=cv2.imread('./mountain.jpg')\n",
    "snow=cv2.imread('./snow.jpg')\n",
    "#resize是通过插值算法进行改变的，所以可以resize为新的大小\n",
    "new_snow=cv2.resize(snow,(680,340))\n",
    "\n",
    "cv2.imshow('show1',np.hstack((mountain,new_snow)))\n",
    "\n",
    "cv2.waitKey(0)\n",
    "cv2.destroyAllWindows()"
   ]
  },
  {
   "cell_type": "markdown",
   "id": "09d954d2-d5ed-492a-9270-5ffa8e3dd437",
   "metadata": {},
   "source": [
    "## 图像的翻转和旋转"
   ]
  },
  {
   "cell_type": "code",
   "execution_count": null,
   "id": "0f5e07db-8c45-410f-be5c-914fb421737b",
   "metadata": {},
   "outputs": [],
   "source": []
  }
 ],
 "metadata": {
  "kernelspec": {
   "display_name": "Python 3 (ipykernel)",
   "language": "python",
   "name": "python3"
  },
  "language_info": {
   "codemirror_mode": {
    "name": "ipython",
    "version": 3
   },
   "file_extension": ".py",
   "mimetype": "text/x-python",
   "name": "python",
   "nbconvert_exporter": "python",
   "pygments_lexer": "ipython3",
   "version": "3.8.17"
  }
 },
 "nbformat": 4,
 "nbformat_minor": 5
}
