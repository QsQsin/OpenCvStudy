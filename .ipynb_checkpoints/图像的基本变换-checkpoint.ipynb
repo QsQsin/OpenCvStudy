{
 "cells": [
  {
   "cell_type": "markdown",
   "id": "ed1329ff-8890-4d7d-8929-99c4603f18ac",
   "metadata": {},
   "source": [
    "## 图像的放大与缩小"
   ]
  },
  {
   "cell_type": "code",
   "execution_count": 8,
   "id": "7ad32891-6f1c-4a4a-a402-edc64dc9c3b4",
   "metadata": {},
   "outputs": [],
   "source": [
    "# resize\n",
    "import cv2\n",
    "import numpy as np\n",
    "\n",
    "mountain=cv2.imread('./mountain.jpg')\n",
    "snow=cv2.imread('./snow.jpg')\n",
    "#resize是通过插值算法进行改变的，所以可以resize为新的大小\n",
    "new_snow=cv2.resize(snow,(680,340))\n",
    "\n",
    "cv2.imshow('show1',np.hstack((mountain,new_snow)))\n",
    "\n",
    "cv2.waitKey(0)\n",
    "cv2.destroyAllWindows()"
   ]
  },
  {
   "cell_type": "markdown",
   "id": "09d954d2-d5ed-492a-9270-5ffa8e3dd437",
   "metadata": {},
   "source": [
    "## 图像的翻转和旋转"
   ]
  },
  {
   "cell_type": "code",
   "execution_count": 1,
   "id": "0f5e07db-8c45-410f-be5c-914fb421737b",
   "metadata": {},
   "outputs": [
    {
     "ename": "NameError",
     "evalue": "name 'ROTATE_180' is not defined",
     "output_type": "error",
     "traceback": [
      "\u001b[1;31m---------------------------------------------------------------------------\u001b[0m",
      "\u001b[1;31mNameError\u001b[0m                                 Traceback (most recent call last)",
      "Cell \u001b[1;32mIn[1], line 12\u001b[0m\n\u001b[0;32m      9\u001b[0m cv2\u001b[38;5;241m.\u001b[39mimshow(\u001b[38;5;124m'\u001b[39m\u001b[38;5;124mshow1\u001b[39m\u001b[38;5;124m'\u001b[39m,np\u001b[38;5;241m.\u001b[39mhstack((mountain,new1)))\n\u001b[0;32m     11\u001b[0m \u001b[38;5;66;03m#rotate\u001b[39;00m\n\u001b[1;32m---> 12\u001b[0m new2\u001b[38;5;241m=\u001b[39mcv2\u001b[38;5;241m.\u001b[39mrotate(mountain,\u001b[43mROTATE_180\u001b[49m)\n\u001b[0;32m     13\u001b[0m cv2\u001b[38;5;241m.\u001b[39mimshow(\u001b[38;5;124m'\u001b[39m\u001b[38;5;124mshow2\u001b[39m\u001b[38;5;124m'\u001b[39m,new2)\n\u001b[0;32m     15\u001b[0m cv2\u001b[38;5;241m.\u001b[39mwaitKey(\u001b[38;5;241m0\u001b[39m)\n",
      "\u001b[1;31mNameError\u001b[0m: name 'ROTATE_180' is not defined"
     ]
    }
   ],
   "source": [
    "#flip\n",
    "import cv2\n",
    "import numpy as np\n",
    "\n",
    "mountain=cv2.imread('./mountain.jpg')\n",
    "\n",
    "new1=cv2.flip(mountain,1)\n",
    "\n",
    "cv2.imshow('show1',np.hstack((mountain,new1)))\n",
    "\n",
    "#rotate\n",
    "new2=cv2.rotate(mountain,ROTATE_180)\n",
    "cv2.imshow('show2',new2)\n",
    "\n",
    "cv2.waitKey(0)\n",
    "cv2.destroyAllWindows()\n",
    "\n",
    "\n"
   ]
  },
  {
   "cell_type": "markdown",
   "id": "f45427ca-ff64-407d-b750-b81bac9c5ddd",
   "metadata": {},
   "source": [
    "## 仿射变换之平移"
   ]
  },
  {
   "cell_type": "code",
   "execution_count": 5,
   "id": "86e4f1b5-d63a-4d68-875e-b659abe409ea",
   "metadata": {},
   "outputs": [],
   "source": [
    "import cv2\n",
    "import numpy as np\n",
    "\n",
    "mountain=cv2.imread('./mountain.jpg')\n",
    "\n",
    "h,w,ch=mountain.shape\n",
    "#仿射变换API,通过变换矩阵对图像进行移动\n",
    "#变换矩阵\n",
    "M=np.float32([[1,0,200],[0,1,-200]])\n",
    "#opencv先宽度后高度\n",
    "new=cv2.warpAffine(mountain,M,dsize=(w,h))\n",
    "cv2.imshow('show2',np.hstack((mountain,new)))\n",
    "\n",
    "cv2.waitKey(0)\n",
    "cv2.destroyAllWindows()"
   ]
  },
  {
   "cell_type": "markdown",
   "id": "bca86400-1845-4f78-a668-821aeeaa2483",
   "metadata": {},
   "source": [
    "## 仿射变换之变换矩阵的获取"
   ]
  },
  {
   "cell_type": "code",
   "execution_count": 6,
   "id": "81939d70-0fe7-4bbd-bc6e-939ea90d50c6",
   "metadata": {},
   "outputs": [],
   "source": [
    "import cv2\n",
    "import numpy as np\n",
    "\n",
    "mountain=cv2.imread('./mountain.jpg')\n",
    "\n",
    "h,w,ch=mountain.shape\n",
    "#仿射变换API,通过变换矩阵对图像进行移动\n",
    "#变换矩阵直接获取\n",
    "M=cv2.getRotationMatrix2D((100,100),15,1)\n",
    "#opencv先宽度后高度\n",
    "new=cv2.warpAffine(mountain,M,dsize=(w,h))\n",
    "cv2.imshow('show2',np.hstack((mountain,new)))\n",
    "\n",
    "cv2.waitKey(0)\n",
    "cv2.destroyAllWindows()"
   ]
  },
  {
   "cell_type": "markdown",
   "id": "412c0b76-dfec-47b3-bf80-334ecca0f743",
   "metadata": {},
   "source": [
    "## 仿射变换之对标"
   ]
  },
  {
   "cell_type": "code",
   "execution_count": 2,
   "id": "6d885700-6cfb-4b0e-9151-2272df63d60a",
   "metadata": {},
   "outputs": [],
   "source": [
    "#通过三个点确定变换矩阵\n",
    "import cv2\n",
    "import numpy as np\n",
    "\n",
    "mountain=cv2.imread('./mountain.jpg')\n",
    "\n",
    "h,w,ch=mountain.shape\n",
    "#需要原始图片三个坐标和变换后对应的三个点\n",
    "src=np.float32([[100,200],[65,30],[70,55]])\n",
    "dst=np.float32([[120,36],[75,60],[100,70]])\n",
    "#获取M\n",
    "M=cv2.getAffineTransform(src,dst)\n",
    "\n",
    "new=cv2.warpAffine(mountain,M,dsize=(w,h))\n",
    "cv2.imshow('show2',np.hstack((mountain,new)))\n",
    "\n",
    "cv2.waitKey(0)\n",
    "cv2.destroyAllWindows()"
   ]
  },
  {
   "cell_type": "markdown",
   "id": "0a590af2-67b5-4895-aac4-4022c89bc6ed",
   "metadata": {},
   "source": [
    "## 仿射变换之透视"
   ]
  },
  {
   "cell_type": "code",
   "execution_count": 4,
   "id": "b8cad0a7-7988-4678-8a4f-fd47119488ab",
   "metadata": {},
   "outputs": [
    {
     "name": "stdout",
     "output_type": "stream",
     "text": [
      "(340, 680, 3)\n"
     ]
    }
   ],
   "source": [
    "import cv2\n",
    "import numpy as np\n",
    "\n",
    "mountain=cv2.imread('./mountain.jpg')\n",
    "\n",
    "print(mountain.shape)\n",
    "#需要原始图片三个坐标和变换后对应的三个点\n",
    "src=np.float32([[100,200],[200,200],[100,300],[200,300]])\n",
    "dst=np.float32([[0,0],[680,0],[0,340],[340,680]])\n",
    "#获取M\n",
    "M=cv2.getPerspectiveTransform(src,dst)\n",
    "\n",
    "new=cv2.warpPerspective(mountain,M,(680,340))\n",
    "cv2.imshow('show2',np.hstack((mountain,new)))\n",
    "\n",
    "cv2.waitKey(0)\n",
    "cv2.destroyAllWindows()"
   ]
  },
  {
   "cell_type": "code",
   "execution_count": null,
   "id": "3676e599-d839-475c-87e7-eede7bd07dc3",
   "metadata": {},
   "outputs": [],
   "source": []
  }
 ],
 "metadata": {
  "kernelspec": {
   "display_name": "Python 3 (ipykernel)",
   "language": "python",
   "name": "python3"
  },
  "language_info": {
   "codemirror_mode": {
    "name": "ipython",
    "version": 3
   },
   "file_extension": ".py",
   "mimetype": "text/x-python",
   "name": "python",
   "nbconvert_exporter": "python",
   "pygments_lexer": "ipython3",
   "version": "3.8.17"
  }
 },
 "nbformat": 4,
 "nbformat_minor": 5
}
