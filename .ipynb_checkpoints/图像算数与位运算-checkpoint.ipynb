{
 "cells": [
  {
   "cell_type": "markdown",
   "id": "c501701c-7e1b-4def-bdaf-01e2a66aee53",
   "metadata": {},
   "source": [
    "## 图像的运算"
   ]
  },
  {
   "cell_type": "code",
   "execution_count": null,
   "id": "74bd03f7-f7f5-4a3f-acbc-4ae97f9c9119",
   "metadata": {},
   "outputs": [],
   "source": []
  }
 ],
 "metadata": {
  "kernelspec": {
   "display_name": "Python 3 (ipykernel)",
   "language": "python",
   "name": "python3"
  },
  "language_info": {
   "codemirror_mode": {
    "name": "ipython",
    "version": 3
   },
   "file_extension": ".py",
   "mimetype": "text/x-python",
   "name": "python",
   "nbconvert_exporter": "python",
   "pygments_lexer": "ipython3",
   "version": "3.8.17"
  }
 },
 "nbformat": 4,
 "nbformat_minor": 5
}
