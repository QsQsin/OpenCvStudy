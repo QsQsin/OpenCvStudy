{
 "cells": [
  {
   "cell_type": "markdown",
   "id": "c501701c-7e1b-4def-bdaf-01e2a66aee53",
   "metadata": {},
   "source": [
    "## 图像的运算"
   ]
  },
  {
   "cell_type": "code",
   "execution_count": 11,
   "id": "74bd03f7-f7f5-4a3f-acbc-4ae97f9c9119",
   "metadata": {},
   "outputs": [
    {
     "name": "stdout",
     "output_type": "stream",
     "text": [
      "(340, 680, 3)\n",
      "(340, 680, 3)\n"
     ]
    }
   ],
   "source": [
    "import cv2\n",
    "import numpy as np\n",
    "\n",
    "mountain=cv2.imread('./mountain.jpg')\n",
    "power=cv2.imread('./power.jpg')\n",
    "\n",
    "#形状要求一致，通道数要求相同\n",
    "print(mountain.shape)\n",
    "print(power.shape)\n",
    "\n",
    "#cv2.add，通道值上限就是255，超过了也不会归零\n",
    "merge=cv2.add(mountain,power)\n",
    "cv2.imshow('show',merge)\n",
    "\n",
    "#图片也可以和单个数字进行运算,此时每个通道超过255的话就会归零重新计数\n",
    "\n",
    "new_mountain=mountain-100;\n",
    "cv2.imshow('show2',new_mountain)\n",
    "#减完<0统一变成0\n",
    "cv2.imshow('show3',cv2.subtract(mountain,new_mountain))\n",
    "#也可以乘除\n",
    "cv2.waitKey(0)\n",
    "cv2.destroyAllWindows()"
   ]
  },
  {
   "cell_type": "markdown",
   "id": "e28ec6cc-92d3-4cd6-b6ee-8ca483443344",
   "metadata": {},
   "source": [
    "## 图像的融合"
   ]
  },
  {
   "cell_type": "code",
   "execution_count": 18,
   "id": "bb46cb39-cf79-46b8-97bf-af8ae9c560df",
   "metadata": {},
   "outputs": [],
   "source": [
    "#图像的融合不是简单的加法相当于拿图片做了线性运算 new_img=img*w1 + img*w2 + bias\n",
    "import cv2\n",
    "import numpy as np\n",
    "\n",
    "mountain=cv2.imread('./mountain.jpg')\n",
    "power=cv2.imread('./power.jpg')\n",
    "\n",
    "new_image=cv2.addWeighted(mountain,0.01,power,0.99,0)\n",
    "\n",
    "cv2.imshow('show1',merge)\n",
    "cv2.waitKey(0)\n",
    "cv2.destroyAllWindows()"
   ]
  },
  {
   "cell_type": "markdown",
   "id": "a1cd8cae-7fae-4969-a0b0-568c3b0988b4",
   "metadata": {},
   "source": [
    "## OpenCv的位运算"
   ]
  },
  {
   "cell_type": "code",
   "execution_count": 26,
   "id": "6b819df3-17e6-47f3-a32f-61bbb5fd5345",
   "metadata": {},
   "outputs": [],
   "source": [
    "import cv2\n",
    "import numpy as np\n",
    "\n",
    "mountain=cv2.imread('./mountain.jpg')\n",
    "power=cv2.imread('./power.jpg')\n",
    "\n",
    "#非操作\n",
    "mountain_not=cv2.bitwise_not(mountain)\n",
    "cv2.imshow('show1',np.hstack((mountain,mountain_not)))\n",
    "\n",
    "#与操作\n",
    "mountain_and=cv2.bitwise_and(mountain,power)\n",
    "cv2.imshow('show2',np.hstack((mountain,mountain_and)))\n",
    "\n",
    "#或操作\n",
    "mountain_and=cv2.bitwise_or(mountain,power)\n",
    "cv2.imshow('show3',np.hstack((mountain,mountain_and)))\n",
    "\n",
    "#异或操作\n",
    "mountain_and=cv2.bitwise_or(mountain,power)\n",
    "cv2.imshow('show3',np.hstack((mountain,mountain_and)))\n",
    "\n",
    "cv2.waitKey(0)\n",
    "cv2.destroyAllWindows()"
   ]
  },
  {
   "cell_type": "code",
   "execution_count": null,
   "id": "c9dbc0e3-77b3-467b-afe6-75259c9a6e93",
   "metadata": {},
   "outputs": [],
   "source": [
    " "
   ]
  }
 ],
 "metadata": {
  "kernelspec": {
   "display_name": "Python 3 (ipykernel)",
   "language": "python",
   "name": "python3"
  },
  "language_info": {
   "codemirror_mode": {
    "name": "ipython",
    "version": 3
   },
   "file_extension": ".py",
   "mimetype": "text/x-python",
   "name": "python",
   "nbconvert_exporter": "python",
   "pygments_lexer": "ipython3",
   "version": "3.8.17"
  }
 },
 "nbformat": 4,
 "nbformat_minor": 5
}
